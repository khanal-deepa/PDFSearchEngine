{
 "cells": [
  {
   "cell_type": "code",
   "execution_count": 2,
   "id": "4f3f578d-bfdb-4667-b022-b7e9bf212921",
   "metadata": {},
   "outputs": [
    {
     "name": "stderr",
     "output_type": "stream",
     "text": [
      "[nltk_data] Downloading package wordnet to\n",
      "[nltk_data]     C:\\Users\\HP\\AppData\\Roaming\\nltk_data...\n",
      "[nltk_data]   Package wordnet is already up-to-date!\n"
     ]
    }
   ],
   "source": [
    "import nltk\n",
    "\n",
    "# Download required NLTK resources if they’re not available\n",
    "def download_nltk_resources():\n",
    "    resources = ['punkt', 'stopwords', 'wordnet']\n",
    "    for resource in resources:\n",
    "        try:\n",
    "            nltk.data.find(f'tokenizers/{resource}' if resource == 'punkt' else f'corpora/{resource}')\n",
    "        except LookupError:\n",
    "            nltk.download(resource)\n",
    "\n",
    "download_nltk_resources()  # Call the function to download resources if missing\n"
   ]
  },
  {
   "cell_type": "code",
   "execution_count": null,
   "id": "763697ef-6c8c-43af-b50c-b946026000da",
   "metadata": {},
   "outputs": [],
   "source": [
    "import os\n",
    "import fitz  # PyMuPDF\n",
    "import nltk\n",
    "from nltk.tokenize import word_tokenize\n",
    "from nltk.corpus import stopwords\n",
    "import string\n",
    "import json\n",
    "from rank_bm25 import BM25Okapi\n",
    "\n",
    "nltk.download('punkt')\n",
    "nltk.download('stopwords')\n",
    "\n",
    "def read_files_from_directory(directory_path):\n",
    "    documents = {}\n",
    "    for filename in os.listdir(directory_path):\n",
    "        if filename.endswith('.pdf'):\n",
    "            file_path = os.path.join(directory_path, filename)\n",
    "            with fitz.open(file_path) as pdf_document:\n",
    "                text = \"\"\n",
    "                for page_number in range(len(pdf_document)):\n",
    "                    page = pdf_document.load_page(page_number)\n",
    "                    text += page.get_text()\n",
    "                if text.strip():  # Check if the extracted text is not empty\n",
    "                    documents[filename] = text\n",
    "                else:\n",
    "                    print(f\"Warning: {filename} is empty after text extraction and will be skipped.\")\n",
    "    return documents\n",
    "\n",
    "def preprocess_text(text):\n",
    "    stop_words = set(stopwords.words('english'))\n",
    "    tokens = word_tokenize(text)\n",
    "    tokens = [token.lower() for token in tokens if token.lower() not in stop_words and token not in string.punctuation]\n",
    "    return tokens\n",
    "\n",
    "def index_files(directory_path):\n",
    "    file_contents = read_files_from_directory(directory_path)\n",
    "    if not file_contents:\n",
    "        raise ValueError(\"No PDF files found in the specified directory\")\n",
    "    \n",
    "    documents = [preprocess_text(content) for content in file_contents.values()]\n",
    "    if not documents:\n",
    "        raise ValueError(\"All PDF files are empty after preprocessing\")\n",
    "    \n",
    "    bm25 = BM25Okapi(documents)\n",
    "    return bm25, file_contents\n",
    "\n",
    "def search_documents(query, bm25, file_contents, top_n=5):\n",
    "    query_tokens = preprocess_text(query)\n",
    "    scores = bm25.get_scores(query_tokens)\n",
    "    ranked_scores = sorted(enumerate(scores), key=lambda x: x[1], reverse=True)\n",
    "    \n",
    "    results = [(list(file_contents.keys())[idx], list(file_contents.values())[idx]) for idx, score in ranked_scores[:top_n]]\n",
    "    return results\n",
    "\n",
    "if __name__ == \"__main__\":\n",
    "    try:\n",
    "        # Indexing\n",
    "        directory_path = 'POM'\n",
    "        bm25, file_contents = index_files(directory_path)\n",
    "        \n",
    "        # Searching\n",
    "        query = 'Organizational goals'\n",
    "        results = search_documents(query, bm25, file_contents)\n",
    "\n",
    "        for filename, content in results:  # Print top results\n",
    "            print(f\"File: {filename}\")\n",
    "            print(f\"Content: {content[:200]}...\")  # Print first 200 characters of the content\n",
    "            print()\n",
    "    except ValueError as e:\n",
    "        print(e)\n"
   ]
  },
  {
   "cell_type": "code",
   "execution_count": 3,
   "id": "573ec9be-2be5-4b85-8d62-eca09aabee37",
   "metadata": {},
   "outputs": [
    {
     "name": "stderr",
     "output_type": "stream",
     "text": [
      "[nltk_data] Downloading package punkt to\n",
      "[nltk_data]     C:\\Users\\HP\\AppData\\Roaming\\nltk_data...\n",
      "[nltk_data]   Package punkt is already up-to-date!\n",
      "[nltk_data] Downloading package stopwords to\n",
      "[nltk_data]     C:\\Users\\HP\\AppData\\Roaming\\nltk_data...\n",
      "[nltk_data]   Package stopwords is already up-to-date!\n",
      "[nltk_data] Downloading package wordnet to\n",
      "[nltk_data]     C:\\Users\\HP\\AppData\\Roaming\\nltk_data...\n",
      "[nltk_data]   Package wordnet is already up-to-date!\n"
     ]
    },
    {
     "data": {
      "text/plain": [
       "True"
      ]
     },
     "execution_count": 3,
     "metadata": {},
     "output_type": "execute_result"
    }
   ],
   "source": [
    "import nltk\n",
    "nltk.download('punkt')\n",
    "nltk.download('stopwords')\n",
    "nltk.download('wordnet')\n"
   ]
  },
  {
   "cell_type": "code",
   "execution_count": 4,
   "id": "270b7384-bb39-47b7-b0a3-a919ed83be7c",
   "metadata": {},
   "outputs": [
    {
     "name": "stderr",
     "output_type": "stream",
     "text": [
      "[nltk_data] Downloading package punkt to C:\\Users\\HP\\nltk_data...\n",
      "[nltk_data]   Unzipping tokenizers\\punkt.zip.\n",
      "[nltk_data] Downloading package stopwords to C:\\Users\\HP\\nltk_data...\n",
      "[nltk_data]   Unzipping corpora\\stopwords.zip.\n",
      "[nltk_data] Downloading package wordnet to C:\\Users\\HP\\nltk_data...\n"
     ]
    },
    {
     "data": {
      "text/plain": [
       "True"
      ]
     },
     "execution_count": 4,
     "metadata": {},
     "output_type": "execute_result"
    }
   ],
   "source": [
    "import os\n",
    "import nltk\n",
    "nltk_data_path = os.path.join(os.path.expanduser(\"~\"), \"nltk_data\")\n",
    "if not os.path.exists(nltk_data_path):\n",
    "    os.makedirs(nltk_data_path)\n",
    "nltk.data.path.append(nltk_data_path)\n",
    "\n",
    "nltk.download('punkt', download_dir=nltk_data_path)\n",
    "nltk.download('stopwords', download_dir=nltk_data_path)\n",
    "nltk.download('wordnet', download_dir=nltk_data_path)\n"
   ]
  },
  {
   "cell_type": "code",
   "execution_count": null,
   "id": "ac11cbaf-c113-4937-b31e-46cad743c417",
   "metadata": {},
   "outputs": [],
   "source": []
  }
 ],
 "metadata": {
  "kernelspec": {
   "display_name": "Python 3 (ipykernel)",
   "language": "python",
   "name": "python3"
  },
  "language_info": {
   "codemirror_mode": {
    "name": "ipython",
    "version": 3
   },
   "file_extension": ".py",
   "mimetype": "text/x-python",
   "name": "python",
   "nbconvert_exporter": "python",
   "pygments_lexer": "ipython3",
   "version": "3.8.19"
  }
 },
 "nbformat": 4,
 "nbformat_minor": 5
}
